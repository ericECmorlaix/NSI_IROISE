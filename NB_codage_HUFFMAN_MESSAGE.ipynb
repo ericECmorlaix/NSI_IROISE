{
 "cells": [
  {
   "attachments": {},
   "cell_type": "markdown",
   "metadata": {},
   "source": [
    "### TABLE D'ENCODAGE DES CARACTÈRES DU MESSAGE"
   ]
  },
  {
   "cell_type": "markdown",
   "metadata": {},
   "source": [
    "![image.png]()"
   ]
  },
  {
   "cell_type": "markdown",
   "metadata": {},
   "source": [
    "### MESSAGE À DECODER"
   ]
  },
  {
   "cell_type": "raw",
   "metadata": {},
   "source": [
    "011111100110110000101111101001000111101101010101011110111011101010011101101010110
    0101110111011111001000110001100101000001100000100011111101001111000100001011010111
    11010100110001001110011010011110011000010110101010110011010101001100100111001000110100"
   ]
  }
 ],
 "metadata": {
  "kernelspec": {
   "display_name": "Python 3",
   "language": "python",
   "name": "python3"
  },
  "language_info": {
   "codemirror_mode": {
    "name": "ipython",
    "version": 3
   },
   "file_extension": ".py",
   "mimetype": "text/x-python",
   "name": "python",
   "nbconvert_exporter": "python",
   "pygments_lexer": "ipython3",
   "version": "3.7.1"
  }
 },
 "nbformat": 4,
 "nbformat_minor": 2
}
