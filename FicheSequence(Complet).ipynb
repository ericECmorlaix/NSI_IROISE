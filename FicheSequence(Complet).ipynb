{
 "cells": [
  {
   "cell_type": "markdown",
   "metadata": {
    "slideshow": {
     "slide_type": "slide"
    }
   },
   "source": [
    "# Progression NSI IROISE"
   ]
  },
  {
   "cell_type": "markdown",
   "metadata": {
    "slideshow": {
     "slide_type": "fragment"
    }
   },
   "source": [
    "## - Séquence 1  : Numération\n"
   ]
  },
  {
   "cell_type": "markdown",
   "metadata": {
    "slideshow": {
     "slide_type": "fragment"
    }
   },
   "source": [
    "## - Séquence 2 : Codage de l'information"
   ]
  },
  {
   "cell_type": "markdown",
   "metadata": {
    "slideshow": {
     "slide_type": "fragment"
    }
   },
   "source": [
    "## - Séquence 3 : Travail de synthèse"
   ]
  },
  {
   "cell_type": "markdown",
   "metadata": {
    "slideshow": {
     "slide_type": "slide"
    }
   },
   "source": [
    "# Fiche Prof séquence 3 :\n",
    "\n",
    "### Objectif :\n",
    "\n",
    "Récupération du fichier compressé contenant le message de consigne suivant \" Calculer (OC) + (23) afficher le résultat en mésopotamien \" "
   ]
  },
  {
   "cell_type": "markdown",
   "metadata": {
    "slideshow": {
     "slide_type": "subslide"
    }
   },
   "source": [
    "### Décomposition des tâches à effectuer 🥇  \n",
    "- Lecture et décompression du fichier à partir d'une table de décodage fournie (1)\n",
    "- Réaliser l'opération demandée et donner le résultat en décimal (2)\n",
    "- Rechercher une solution pour coder le résultat en mésopotamien pour affichage (3)\n",
    "- Développer un script python permettant de coder la tâche précédente pour toute entrée n'excédant pas 2022 (4)"
   ]
  },
  {
   "cell_type": "markdown",
   "metadata": {
    "slideshow": {
     "slide_type": "subslide"
    }
   },
   "source": [
    "### Activités élèves suivant les tâches à effectuer 👍 \n",
    "\n",
    "(1) Activité débranchée : Utiliser la table de décodage fournie pour reconstituer le message (évaluation Huffman et encodage). \n",
    "\n",
    "(2) Activité débranchée : conversion et calcul (évaluation numération binaire)\n",
    "\n",
    "(3) Activité débranchée ou assistée : à la discrétion de l'élève\n",
    "\n",
    "(4) Activité assistée par groupe : élaboration d'un script python "
   ]
  },
  {
   "cell_type": "markdown",
   "metadata": {
    "slideshow": {
     "slide_type": "slide"
    }
   },
   "source": [
    "# Fiche élève séquence 3 : "
   ]
  },
  {
   "cell_type": "markdown",
   "metadata": {
    "slideshow": {
     "slide_type": "slide"
    }
   },
   "source": [
    "## 1- Décoder le premier mot du message de consigne :"
   ]
  },
  {
   "cell_type": "markdown",
   "metadata": {
    "slideshow": {
     "slide_type": "subslide"
    }
   },
   "source": [
    "### Message :\n",
    "\n",
    "<code><pre>\n",
    "011111100110110000101111101001000111101101010101011110111011101010011101101010110010111011101111100100011000110010100000110000010001111110100111100010000101101011111010100110001001110011010011110011000010110101010110011010101001100100111001000110100\n",
    "</pre></code>"
   ]
  },
  {
   "cell_type": "markdown",
   "metadata": {
    "slideshow": {
     "slide_type": "subslide"
    }
   },
   "source": [
    "### Table de codage associée :\n",
    "<center><img src=\"image.png\" alt=\"TABLE CODAGE\" title=\"Table de codage spécifique au message\"></center>"
   ]
  },
  {
   "cell_type": "markdown",
   "metadata": {
    "slideshow": {
     "slide_type": "slide"
    }
   },
   "source": [
    "## 2- Réaliser l'opération demandée dans le message et donner le résultat en décimal :"
   ]
  },
  {
   "cell_type": "code",
   "execution_count": 32,
   "metadata": {
    "slideshow": {
     "slide_type": "fragment"
    }
   },
   "outputs": [
    {
     "data": {
      "text/plain": [
       "47"
      ]
     },
     "execution_count": 32,
     "metadata": {},
     "output_type": "execute_result"
    }
   ],
   "source": [
    "int('0x0C',16)+int('0x23',16)"
   ]
  },
  {
   "cell_type": "code",
   "execution_count": 29,
   "metadata": {
    "slideshow": {
     "slide_type": "subslide"
    }
   },
   "outputs": [
    {
     "data": {
      "text/plain": [
       "'0b101111'"
      ]
     },
     "execution_count": 29,
     "metadata": {},
     "output_type": "execute_result"
    }
   ],
   "source": [
    "bin(47)"
   ]
  },
  {
   "cell_type": "markdown",
   "metadata": {
    "slideshow": {
     "slide_type": "slide"
    }
   },
   "source": [
    "## 3- Codage et affichage du résultat en Babylonien :\n",
    "**Rechercher** une solution pour coder le résultat en mésopotamien pour affichage\n",
    "\n",
    "### Ressources :\n",
    "- [Comptage Babylonnien](Compter.pdf)\n",
    "- https://fr.wikipedia.org/wiki/Cunéiforme"
   ]
  },
  {
   "cell_type": "markdown",
   "metadata": {
    "slideshow": {
     "slide_type": "subslide"
    }
   },
   "source": [
    "**Exemple de correction d'une recherche par tâtonnement pour l'affichage du résultat du message** :"
   ]
  },
  {
   "cell_type": "code",
   "execution_count": 3,
   "metadata": {
    "slideshow": {
     "slide_type": "fragment"
    }
   },
   "outputs": [],
   "source": [
    "resultat = 12+35"
   ]
  },
  {
   "cell_type": "code",
   "execution_count": 4,
   "metadata": {
    "slideshow": {
     "slide_type": "fragment"
    }
   },
   "outputs": [
    {
     "data": {
      "text/plain": [
       "47"
      ]
     },
     "execution_count": 4,
     "metadata": {},
     "output_type": "execute_result"
    }
   ],
   "source": [
    "resultat"
   ]
  },
  {
   "cell_type": "code",
   "execution_count": 1,
   "metadata": {
    "slideshow": {
     "slide_type": "fragment"
    }
   },
   "outputs": [
    {
     "data": {
      "text/plain": [
       "'A'"
      ]
     },
     "execution_count": 1,
     "metadata": {},
     "output_type": "execute_result"
    }
   ],
   "source": [
    "chr(65)"
   ]
  },
  {
   "cell_type": "code",
   "execution_count": 8,
   "metadata": {
    "slideshow": {
     "slide_type": "fragment"
    }
   },
   "outputs": [
    {
     "data": {
      "text/plain": [
       "65"
      ]
     },
     "execution_count": 8,
     "metadata": {},
     "output_type": "execute_result"
    }
   ],
   "source": [
    "ord('A')"
   ]
  },
  {
   "cell_type": "code",
   "execution_count": 10,
   "metadata": {
    "slideshow": {
     "slide_type": "fragment"
    }
   },
   "outputs": [
    {
     "data": {
      "text/plain": [
       "'AAAA'"
      ]
     },
     "execution_count": 10,
     "metadata": {},
     "output_type": "execute_result"
    }
   ],
   "source": [
    "chr(65)*4"
   ]
  },
  {
   "cell_type": "code",
   "execution_count": 11,
   "metadata": {
    "slideshow": {
     "slide_type": "subslide"
    }
   },
   "outputs": [
    {
     "data": {
      "text/plain": [
       "'AAAABBBBBBB'"
      ]
     },
     "execution_count": 11,
     "metadata": {},
     "output_type": "execute_result"
    }
   ],
   "source": [
    "chr(65)*4+chr(66)*7"
   ]
  },
  {
   "cell_type": "code",
   "execution_count": 14,
   "metadata": {
    "slideshow": {
     "slide_type": "fragment"
    }
   },
   "outputs": [],
   "source": [
    "babylone = chr(60)*4+chr(84)*7"
   ]
  },
  {
   "cell_type": "code",
   "execution_count": 20,
   "metadata": {
    "slideshow": {
     "slide_type": "fragment"
    }
   },
   "outputs": [],
   "source": [
    "babylone = chr(60)*(resultat//10)+chr(84)*(resultat%10)"
   ]
  },
  {
   "cell_type": "code",
   "execution_count": 21,
   "metadata": {
    "slideshow": {
     "slide_type": "fragment"
    }
   },
   "outputs": [
    {
     "name": "stdout",
     "output_type": "stream",
     "text": [
      "Le résultat en Babylonien (simplifié) s'écrit <<<<TTTTTTT\n"
     ]
    }
   ],
   "source": [
    "print(f\"Le résultat en Babylonien (simplifié) s'écrit {babylone}\")"
   ]
  },
  {
   "cell_type": "code",
   "execution_count": 22,
   "metadata": {
    "slideshow": {
     "slide_type": "fragment"
    }
   },
   "outputs": [
    {
     "data": {
      "text/plain": [
       "''"
      ]
     },
     "execution_count": 22,
     "metadata": {},
     "output_type": "execute_result"
    }
   ],
   "source": [
    "chr(60)*0"
   ]
  },
  {
   "cell_type": "markdown",
   "metadata": {
    "slideshow": {
     "slide_type": "slide"
    }
   },
   "source": [
    "## 4 - Script de codage\n",
    "**Développer** un script python permettant de coder le résultat en mésopotamien et son affichage pour toute entrée n'excédant pas 2022.\n",
    "\n",
    "### Proposition de trame :\n",
    "- **demander** le le nombre décimal à coder\n",
    "- **convertit** l'entrée en nombre du système Babylonien en plaçant les coefficients dans une liste décroissante ordonnée par rang ;\n",
    "- **parcourir** la liste pour afficher chacun des coefficients du nombre par son symbole Babolien correspondant.\n",
    "\n",
    "#### Remarque : \n",
    "- pour simplifier nous remplacerons le chevron par le caractère `>`, le clou par le caractère `T`, le nombre afficher sera une suite de chevrons et de clous."
   ]
  },
  {
   "cell_type": "code",
   "execution_count": 19,
   "metadata": {
    "slideshow": {
     "slide_type": "subslide"
    }
   },
   "outputs": [
    {
     "name": "stdout",
     "output_type": "stream",
     "text": [
      "Entrez le nombre à coder  60\n"
     ]
    }
   ],
   "source": [
    "# il faut entrer le nombre décimal à coder\n",
    "nombre_a_coder=int(input(\"Entrez le nombre à coder  \"))"
   ]
  },
  {
   "cell_type": "code",
   "execution_count": 20,
   "metadata": {
    "slideshow": {
     "slide_type": "fragment"
    }
   },
   "outputs": [],
   "source": [
    "# initialisation de la table de codage\n",
    "table_codage=[]"
   ]
  },
  {
   "cell_type": "code",
   "execution_count": 21,
   "metadata": {
    "slideshow": {
     "slide_type": "fragment"
    }
   },
   "outputs": [],
   "source": [
    "# boucle de conversion\n",
    "while (nombre_a_coder !=0 ):\n",
    "    table_codage = table_codage + [nombre_a_coder%60]\n",
    "    nombre_a_coder=nombre_a_coder//60"
   ]
  },
  {
   "cell_type": "code",
   "execution_count": 22,
   "metadata": {
    "slideshow": {
     "slide_type": "subslide"
    }
   },
   "outputs": [
    {
     "name": "stdout",
     "output_type": "stream",
     "text": [
      "[0, 1]\n"
     ]
    }
   ],
   "source": [
    "# affichage du résultat intermédiaire\n",
    "print(table_codage)"
   ]
  },
  {
   "cell_type": "code",
   "execution_count": 23,
   "metadata": {
    "slideshow": {
     "slide_type": "subslide"
    }
   },
   "outputs": [
    {
     "name": "stdout",
     "output_type": "stream",
     "text": [
      "[1, 0]\n"
     ]
    }
   ],
   "source": [
    "# nous devons inverser la table de codage\n",
    "table_codage.reverse()\n",
    "# affichage correct de la table\n",
    "print(table_codage)"
   ]
  },
  {
   "cell_type": "code",
   "execution_count": 28,
   "metadata": {
    "slideshow": {
     "slide_type": "subslide"
    }
   },
   "outputs": [
    {
     "name": "stdout",
     "output_type": "stream",
     "text": [
      "T"
     ]
    }
   ],
   "source": [
    "# affichage final\n",
    "for i in range(0,len(table_codage)):\n",
    "        coeff=(chr(60)*(table_codage[i]//10))+(chr(84)*(table_codage[i]%10))\n",
    "        print(coeff,end='')"
   ]
  },
  {
   "cell_type": "code",
   "execution_count": null,
   "metadata": {},
   "outputs": [],
   "source": []
  }
 ],
 "metadata": {
  "celltoolbar": "Diaporama",
  "kernelspec": {
   "display_name": "Python 3",
   "language": "python",
   "name": "python3"
  },
  "language_info": {
   "codemirror_mode": {
    "name": "ipython",
    "version": 3
   },
   "file_extension": ".py",
   "mimetype": "text/x-python",
   "name": "python",
   "nbconvert_exporter": "python",
   "pygments_lexer": "ipython3",
   "version": "3.6.5"
  }
 },
 "nbformat": 4,
 "nbformat_minor": 2
}
