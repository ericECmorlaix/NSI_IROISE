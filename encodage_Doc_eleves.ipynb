{
 "cells": [
  {
   "cell_type": "markdown",
   "metadata": {},
   "source": [
    "# NUMÉRIQUE ET SCIENCES INFORMATIQUES"
   ]
  },
  {
   "cell_type": "markdown",
   "metadata": {},
   "source": [
    "## Séquence 2 : Encodage des caractères et compression"
   ]
  },
  {
   "cell_type": "markdown",
   "metadata": {},
   "source": [
    "## Historique"
   ]
  },
  {
   "cell_type": "markdown",
   "metadata": {},
   "source": [
    "Le codage des caractères est une convention qui permet, à travers un codage connu de tous, de transmettre de l'information textuelle, là où aucun support ne permet l'écriture scripturale. Cela consiste à représenter chaque caractère, par un motif visuel, un motif sonore, ou une séquence abstraite.(Wikipedia)\n",
    "\n",
    "Le codage a évolué au cours du temps, en particulier avec l’apparition de l’ordinateur.\n",
    "\n",
    "**1)** Rechercher quelques codages de caractères (en particulier, à partir de l'époque de l'informatisation).Identifier son inventeur (dates naissance/décès), époque à laquelle a été mis au point ce codage. A quel besoin répondait-il ? L'organisation de ce codage était-elle arbitraire ?"
   ]
  },
  {
   "cell_type": "markdown",
   "metadata": {},
   "source": [
    "## On fait le point  ![Point_etape.png](images/PointEtape.png)"
   ]
  },
  {
   "cell_type": "markdown",
   "metadata": {},
   "source": [
    "### Problématique 1"
   ]
  },
  {
   "cell_type": "markdown",
   "metadata": {},
   "source": [
    "#### Vous préparez un compte-rendu avec un camarade de classe. Celui-ci a une mauvaise habitude : Il ne met jamais de majuscule en début de phrase. Vous décidez de créer un programme en python qui modifie le texte et ajoute cette majuscule."
   ]
  },
  {
   "cell_type": "markdown",
   "metadata": {},
   "source": [
    "### Limites de l'étude"
   ]
  },
  {
   "cell_type": "markdown",
   "metadata": {},
   "source": [
    "On saisit une chaîne de caractères au clavier. Celle-ci ne contient ni voyelle accentuée, ni caractère spécial. Tous les caractères sont en minuscule."
   ]
  },
  {
   "cell_type": "markdown",
   "metadata": {},
   "source": [
    "### Travail demandé"
   ]
  },
  {
   "cell_type": "markdown",
   "metadata": {},
   "source": [
    "**2)** Tracer l'algorithme du programme principal fourni ci-dessous.\n",
    "\n",
    "**3)** Réaliser une fonction permettant de mettre en majuscule, la première lettre du premier mot de toute phrase contenu dans la chaîne de caractères.\n",
    "\n",
    "**4)** Rechercher la signification de l'instruction \"assert\". Justifier les 3 assertions réalisées dans la fonction.\n",
    "\n",
    "Remarques :\n",
    "- On suggère d'étudier la table des codes ASCII pour les caractères utiles ;\n",
    "- l'utilisation des méthodes chr() et ord()."
   ]
  },
  {
   "cell_type": "code",
   "execution_count": null,
   "metadata": {},
   "outputs": [],
   "source": [
    "help(chr)"
   ]
  },
  {
   "cell_type": "code",
   "execution_count": null,
   "metadata": {},
   "outputs": [],
   "source": [
    "help(ord)"
   ]
  },
  {
   "cell_type": "code",
   "execution_count": null,
   "metadata": {},
   "outputs": [],
   "source": [
    "# -*- coding: utf-8 -*-\n",
    "\"\"\"\n",
    "Éditeur de Spyder\n",
    "\n",
    "Ceci est un script temporaire.\n",
    "\"\"\"\n",
    "\n",
    "def Majuscule(caractere):\n",
    "    \"\"\"\n",
    "    Description\n",
    "    prend un caractere minuscule en entree et le renvoi en majuscule\n",
    "    Exemple :\n",
    "    >>> print(Majuscule(p))\n",
    "    >>> P\n",
    "    Précondition : le caractère doit être une minucule non accentuée\n",
    "    Postcondition : la majuscule du caractère est renvoyée\n",
    "    \"\"\"\n",
    "    assert type(caractere) == str, \"saisir une lettre minuscule\"\n",
    "    assert ord(caractere) >= 97, \"Il ne s'agit pas de minuscule\"\n",
    "    assert ord(caractere) <= 122, \"Il ne s'agit pas de minuscule\"\n",
    "    \n",
    "    #votre code ici !\n",
    "\n",
    "# Programme principal\n",
    "#A des fins de test\n",
    "#texte=\"le chien est heureux! a t-il un os? non. même pas.\"\n",
    "#Dans la vraie vie\n",
    "texte=input(\"saisir un texte en minuscules : \")    \n",
    "texte_modifie=\"\"\n",
    "longueur =len(texte)\n",
    "\n",
    "texte_modifie=Majuscule(texte[0])\n",
    "for i in range(1, longueur):\n",
    "    if  i>2 and   (texte[i-2]==\".\" or texte[i-2]==\"!\" or texte[i-2]==\"?\"):\n",
    "        if  texte[i-1]==\" \":\n",
    "            texte_modifie=texte_modifie+Majuscule(texte[i])\n",
    "    else:\n",
    "        texte_modifie=texte_modifie+texte[i]\n",
    "\n",
    "print(texte_modifie)"
   ]
  },
  {
   "cell_type": "markdown",
   "metadata": {},
   "source": [
    "> Pour les plus rapides d'entre-vous, étudiez le cas où parfois, la majuscule est déjà mise !"
   ]
  },
  {
   "cell_type": "markdown",
   "metadata": {},
   "source": [
    "## On fait le point  ![Point_etape.png](images/PointEtape.png)"
   ]
  },
  {
   "cell_type": "markdown",
   "metadata": {},
   "source": [
    "### Problématique 2"
   ]
  },
  {
   "cell_type": "markdown",
   "metadata": {},
   "source": [
    "#### Vous préparez chez vous un compte-rendu d'activité en NSI. Vous vous êtes partagé la tâche avec votre binôme. Vous faites la première partie, lui la deuxième. Vous n'avez pas prété attention à la configuration de votre éditeur de texte, le votre est configuré avec un encodage de caractères UTF-8, le sien en ISO8859-1."
   ]
  },
  {
   "cell_type": "markdown",
   "metadata": {},
   "source": [
    "### Travail demandé"
   ]
  },
  {
   "cell_type": "markdown",
   "metadata": {},
   "source": [
    "####  **5)** quelques expériences\n",
    "\n",
    "- Ouvrir l'éditeur de texte : NOTEPAD++ ;\n",
    "- Sélectionner l'encodage UTF-8 ;\n",
    "- Saisir ce texte : \"Depuis le passage à l'euro (€), le coût de La vie a augmenté.\"\n",
    "- Modifier l'encodage en sélectionnant ISO8859-1 ; (ce que va voir votre camarade à la réception du fichier)\n",
    "- Que constatez-vous ?\n",
    "- Modifier le texte pour le rendre à nouveau lisible ;\n",
    "- Modifier l'encodage en repassant en UTF-8 ; (ce que vous allez voir à la réception du fichier)\n",
    "- Que constatez-vous ?\n",
    "- Modifier le texte pour le rendre à nouveau lisible ;\n",
    "- Sauvegarder le fichier. (Nous en aurons besoin ultérieurement)"
   ]
  },
  {
   "cell_type": "markdown",
   "metadata": {},
   "source": [
    "Un éditeur de texte ne pouvant « deviner » l’encodage du fichier texte, il faut donc que la configuration de l’éditeur corresponde à l’encodage du fichier !"
   ]
  },
  {
   "cell_type": "markdown",
   "metadata": {},
   "source": [
    "**6)** Visiblement, ces 2 encodages sont compatibles pour un nombre limité de caractères du texte saisi. Avec quel type d’encodage sont-ils tous deux compatibles ?"
   ]
  },
  {
   "cell_type": "markdown",
   "metadata": {},
   "source": [
    "## On fait le point  ![Point_etape.png](images/PointEtape.png)"
   ]
  },
  {
   "cell_type": "markdown",
   "metadata": {},
   "source": [
    "### Recherche sur Internet"
   ]
  },
  {
   "cell_type": "markdown",
   "metadata": {},
   "source": [
    "**7)** Quelle différence y a-t-il entre UNICODE, UTF-8, UTF-16 et UTF-32 ?\n",
    "Dans l'éditeur de texte utilisé précédemment, vous avez peut-être aperçu \"encodage avec BOM,UTF-16BE, UTF-16LE\". Que veulent dire ces accronymes BOM, LE, BE ? Quel est leur rôle ?"
   ]
  },
  {
   "cell_type": "markdown",
   "metadata": {},
   "source": [
    "## On fait le point  ![Point_etape.png](images/PointEtape.png)"
   ]
  },
  {
   "cell_type": "markdown",
   "metadata": {},
   "source": [
    "### Travail demandé"
   ]
  },
  {
   "cell_type": "markdown",
   "metadata": {},
   "source": [
    "#### **8)** Défi 1 :"
   ]
  },
  {
   "cell_type": "markdown",
   "metadata": {},
   "source": [
    "Représenter en binaire le point de code des caractères \"a, à, α et ☯\" encodé en UTF-8."
   ]
  },
  {
   "cell_type": "markdown",
   "metadata": {},
   "source": [
    "| Caractère| Point de code (hexa) | Codage binaire UTF-8  |\n",
    "| :--- |---:| ---:|\n",
    "|a| 0x61  |                |\n",
    "|à| 0xE0       |                |\n",
    "|α| 0x03B1       |                      |\n",
    "|☯| 0x262F       |                    |"
   ]
  },
  {
   "cell_type": "markdown",
   "metadata": {},
   "source": [
    "#### **9)** Défi 2 :"
   ]
  },
  {
   "cell_type": "markdown",
   "metadata": {},
   "source": [
    "Nous allons faire une radioscopie du fichier réalisé en début de séquence. Ouvrir le fichier sauvegardé précédemment avec un éditeur hexadécimal (<https://hexed.it/>) et visualiser l’encodage des caractères. Quel est le point de code du caractère € ?"
   ]
  },
  {
   "cell_type": "markdown",
   "metadata": {},
   "source": [
    "#### **10)** Défi 3 :"
   ]
  },
  {
   "cell_type": "markdown",
   "metadata": {},
   "source": [
    "Concevez un éditeur hexadécimal qui affiche les valeurs hexadécimales des caractères contenus dans une variable de type \"String\" par ligne de 10 octets.On donne ci-dessous la chaine de caractères."
   ]
  },
  {
   "cell_type": "code",
   "execution_count": null,
   "metadata": {},
   "outputs": [],
   "source": [
    "#!/usr/bin/env python3\n",
    "# -*- coding: utf-8 -*-\n",
    "\"\"\"\n",
    "Created on Mon Apr 29 15:08:18 2019\n",
    "\n",
    "\"\"\"\n",
    "\n",
    "texte=\"Depuis le passage à l'euro (€), le coût de La vie a augmenté.\""
   ]
  },
  {
   "cell_type": "markdown",
   "metadata": {},
   "source": [
    "#### **11)** Défi 4 :"
   ]
  },
  {
   "cell_type": "markdown",
   "metadata": {},
   "source": [
    "Concevez un éditeur de texte qui interprète un fichier hexadécimal représentant un texte encodé en UTF-8. On fournit le "
   ]
  },
  {
   "cell_type": "markdown",
   "metadata": {},
   "source": [
    "> Pour les plus rapides d'entre-vous, rechercher des informations sur les méthodes encode, decode."
   ]
  },
  {
   "cell_type": "markdown",
   "metadata": {},
   "source": [
    "#### **12)** Défi 5 :"
   ]
  },
  {
   "cell_type": "markdown",
   "metadata": {},
   "source": [
    "Une fois votre programme réalisé, faites une recherche sur Internet concernant les compréhensions de liste en python. Reprendre votre programme et réaliser le traitement en une seule ligne de code."
   ]
  },
  {
   "cell_type": "markdown",
   "metadata": {},
   "source": [
    "## On fait le point  ![Point_etape.png](images/PointEtape.png)"
   ]
  },
  {
   "cell_type": "markdown",
   "metadata": {},
   "source": [
    "### Conclusion"
   ]
  },
  {
   "cell_type": "markdown",
   "metadata": {},
   "source": [
    "**13)** Rédiger une conclusion sur le travail réalisé durant la séquence et en particulier sur l'encodage UTF-8."
   ]
  },
  {
   "cell_type": "markdown",
   "metadata": {},
   "source": [
    "## On fait le point  ![Point_etape.png](images/PointEtape.png)"
   ]
  },
  {
   "cell_type": "markdown",
   "metadata": {},
   "source": [
    ">Si l'encodage de type UTF-8 est utilisé, il est fort probable que la taille du fichier texte ait augmentée. Comment minimiser son poids ?"
   ]
  }
 ],
 "metadata": {
  "kernelspec": {
   "display_name": "Python 3",
   "language": "python",
   "name": "python3"
  },
  "language_info": {
   "codemirror_mode": {
    "name": "ipython",
    "version": 3
   },
   "file_extension": ".py",
   "mimetype": "text/x-python",
   "name": "python",
   "nbconvert_exporter": "python",
   "pygments_lexer": "ipython3",
   "version": "3.7.3"
  }
 },
 "nbformat": 4,
 "nbformat_minor": 2
}
